{
 "cells": [
  {
   "cell_type": "markdown",
   "metadata": {},
   "source": [
    "### Let's start with List"
   ]
  },
  {
   "cell_type": "code",
   "execution_count": 8,
   "metadata": {},
   "outputs": [
    {
     "data": {
      "text/plain": [
       "\u001b[36mlist\u001b[39m: \u001b[32mList\u001b[39m[\u001b[32mString\u001b[39m] = \u001b[33mList\u001b[39m(\u001b[32m\"cricket\"\u001b[39m, \u001b[32m\"baseball\"\u001b[39m, \u001b[32m\"hockey\"\u001b[39m, \u001b[32m\"rugby\"\u001b[39m, \u001b[32m\"tennis\"\u001b[39m)"
      ]
     },
     "execution_count": 8,
     "metadata": {},
     "output_type": "execute_result"
    }
   ],
   "source": [
    "val list = List(\"cricket\", \"baseball\", \"hockey\", \"rugby\", \"tennis\")"
   ]
  },
  {
   "cell_type": "code",
   "execution_count": 2,
   "metadata": {},
   "outputs": [
    {
     "data": {
      "text/plain": [
       "\u001b[36mres1\u001b[39m: \u001b[32mList\u001b[39m[\u001b[32mInt\u001b[39m] = \u001b[33mList\u001b[39m(\u001b[32m7\u001b[39m, \u001b[32m8\u001b[39m, \u001b[32m6\u001b[39m, \u001b[32m5\u001b[39m)"
      ]
     },
     "execution_count": 2,
     "metadata": {},
     "output_type": "execute_result"
    }
   ],
   "source": [
    "list.map(_.size)"
   ]
  },
  {
   "cell_type": "code",
   "execution_count": 3,
   "metadata": {},
   "outputs": [
    {
     "data": {
      "text/plain": [
       "\u001b[36mres2\u001b[39m: \u001b[32mInt\u001b[39m = \u001b[32m8\u001b[39m"
      ]
     },
     "execution_count": 3,
     "metadata": {},
     "output_type": "execute_result"
    }
   ],
   "source": [
    "list.map(_.size).max"
   ]
  },
  {
   "cell_type": "code",
   "execution_count": 6,
   "metadata": {},
   "outputs": [
    {
     "data": {
      "text/plain": [
       "\u001b[36mres5\u001b[39m: \u001b[32mString\u001b[39m = \u001b[32m\"-cricket-baseball-hockey-rugby\"\u001b[39m"
      ]
     },
     "execution_count": 6,
     "metadata": {},
     "output_type": "execute_result"
    }
   ],
   "source": [
    "list.foldLeft(\"\") { (currentSum, currentItem) =>\n",
    "    currentSum + \"-\" + currentItem\n",
    "}"
   ]
  },
  {
   "cell_type": "markdown",
   "metadata": {},
   "source": [
    "### Let's get a histogram of the string lengths"
   ]
  },
  {
   "cell_type": "code",
   "execution_count": 11,
   "metadata": {},
   "outputs": [
    {
     "data": {
      "text/plain": [
       "\u001b[36mres10\u001b[39m: \u001b[32mMap\u001b[39m[\u001b[32mInt\u001b[39m, \u001b[32mList\u001b[39m[\u001b[32mString\u001b[39m]] = \u001b[33mMap\u001b[39m(\n",
       "  \u001b[32m8\u001b[39m -> \u001b[33mList\u001b[39m(\u001b[32m\"baseball\"\u001b[39m),\n",
       "  \u001b[32m5\u001b[39m -> \u001b[33mList\u001b[39m(\u001b[32m\"rugby\"\u001b[39m),\n",
       "  \u001b[32m7\u001b[39m -> \u001b[33mList\u001b[39m(\u001b[32m\"cricket\"\u001b[39m),\n",
       "  \u001b[32m6\u001b[39m -> \u001b[33mList\u001b[39m(\u001b[32m\"hockey\"\u001b[39m, \u001b[32m\"tennis\"\u001b[39m)\n",
       ")"
      ]
     },
     "execution_count": 11,
     "metadata": {},
     "output_type": "execute_result"
    }
   ],
   "source": [
    "list.groupBy(_.size)"
   ]
  },
  {
   "cell_type": "code",
   "execution_count": 12,
   "metadata": {},
   "outputs": [
    {
     "data": {
      "text/plain": [
       "\u001b[36mres11\u001b[39m: \u001b[32mMap\u001b[39m[\u001b[32mInt\u001b[39m, \u001b[32mInt\u001b[39m] = \u001b[33mMap\u001b[39m(\u001b[32m8\u001b[39m -> \u001b[32m1\u001b[39m, \u001b[32m5\u001b[39m -> \u001b[32m1\u001b[39m, \u001b[32m7\u001b[39m -> \u001b[32m1\u001b[39m, \u001b[32m6\u001b[39m -> \u001b[32m2\u001b[39m)"
      ]
     },
     "execution_count": 12,
     "metadata": {},
     "output_type": "execute_result"
    }
   ],
   "source": [
    "list.groupBy(_.size).mapValues(_.size)"
   ]
  },
  {
   "cell_type": "markdown",
   "metadata": {},
   "source": [
    "### Let's try zipping"
   ]
  },
  {
   "cell_type": "code",
   "execution_count": 13,
   "metadata": {},
   "outputs": [
    {
     "data": {
      "text/plain": [
       "\u001b[36mres12\u001b[39m: \u001b[32mList\u001b[39m[(\u001b[32mString\u001b[39m, \u001b[32mString\u001b[39m)] = \u001b[33mList\u001b[39m(\n",
       "  (\u001b[32m\"cricket\"\u001b[39m, \u001b[32m\"cricket\"\u001b[39m),\n",
       "  (\u001b[32m\"baseball\"\u001b[39m, \u001b[32m\"baseball\"\u001b[39m),\n",
       "  (\u001b[32m\"hockey\"\u001b[39m, \u001b[32m\"hockey\"\u001b[39m),\n",
       "  (\u001b[32m\"rugby\"\u001b[39m, \u001b[32m\"rugby\"\u001b[39m),\n",
       "  (\u001b[32m\"tennis\"\u001b[39m, \u001b[32m\"tennis\"\u001b[39m)\n",
       ")"
      ]
     },
     "execution_count": 13,
     "metadata": {},
     "output_type": "execute_result"
    }
   ],
   "source": [
    "list zip list"
   ]
  },
  {
   "cell_type": "code",
   "execution_count": 14,
   "metadata": {},
   "outputs": [
    {
     "data": {
      "text/plain": [
       "\u001b[36mres13\u001b[39m: \u001b[32mList\u001b[39m[(\u001b[32mString\u001b[39m, \u001b[32mInt\u001b[39m)] = \u001b[33mList\u001b[39m(\n",
       "  (\u001b[32m\"cricket\"\u001b[39m, \u001b[32m0\u001b[39m),\n",
       "  (\u001b[32m\"baseball\"\u001b[39m, \u001b[32m1\u001b[39m),\n",
       "  (\u001b[32m\"hockey\"\u001b[39m, \u001b[32m2\u001b[39m),\n",
       "  (\u001b[32m\"rugby\"\u001b[39m, \u001b[32m3\u001b[39m),\n",
       "  (\u001b[32m\"tennis\"\u001b[39m, \u001b[32m4\u001b[39m)\n",
       ")"
      ]
     },
     "execution_count": 14,
     "metadata": {},
     "output_type": "execute_result"
    }
   ],
   "source": [
    "list zipWithIndex"
   ]
  },
  {
   "cell_type": "markdown",
   "metadata": {},
   "source": [
    "# TODO: Add samples for reduce, reduceBy, etc."
   ]
  },
  {
   "cell_type": "markdown",
   "metadata": {},
   "source": [
    "### On to Maps now:"
   ]
  },
  {
   "cell_type": "code",
   "execution_count": 15,
   "metadata": {},
   "outputs": [
    {
     "data": {
      "text/plain": [
       "\u001b[36mmap\u001b[39m: \u001b[32mMap\u001b[39m[\u001b[32mString\u001b[39m, \u001b[32mDouble\u001b[39m] = \u001b[33mMap\u001b[39m(\u001b[32m\"India\"\u001b[39m -> \u001b[32m1.16\u001b[39m, \u001b[32m\"China\"\u001b[39m -> \u001b[32m1.2\u001b[39m, \u001b[32m\"USA\"\u001b[39m -> \u001b[32m0.4\u001b[39m, \u001b[32m\"UK\"\u001b[39m -> \u001b[32m0.06\u001b[39m)"
      ]
     },
     "execution_count": 15,
     "metadata": {},
     "output_type": "execute_result"
    }
   ],
   "source": [
    "val map = Map(\"India\" -> 1.16, \"China\" -> 1.2, \"USA\" -> 0.4, \"UK\" -> 0.06)"
   ]
  },
  {
   "cell_type": "code",
   "execution_count": 16,
   "metadata": {},
   "outputs": [
    {
     "data": {
      "text/plain": [
       "\u001b[36mres15\u001b[39m: \u001b[32mMap\u001b[39m[\u001b[32mString\u001b[39m, \u001b[32mDouble\u001b[39m] = \u001b[33mMap\u001b[39m(\u001b[32m\"India\"\u001b[39m -> \u001b[32m1.16E9\u001b[39m, \u001b[32m\"China\"\u001b[39m -> \u001b[32m1.2E9\u001b[39m, \u001b[32m\"USA\"\u001b[39m -> \u001b[32m4.0E8\u001b[39m, \u001b[32m\"UK\"\u001b[39m -> \u001b[32m6.0E7\u001b[39m)"
      ]
     },
     "execution_count": 16,
     "metadata": {},
     "output_type": "execute_result"
    }
   ],
   "source": [
    "map.mapValues(_ * 1000000000)"
   ]
  },
  {
   "cell_type": "code",
   "execution_count": 17,
   "metadata": {},
   "outputs": [
    {
     "data": {
      "text/plain": [
       "\u001b[36mres16\u001b[39m: \u001b[32mList\u001b[39m[(\u001b[32mString\u001b[39m, \u001b[32mDouble\u001b[39m)] = \u001b[33mList\u001b[39m((\u001b[32m\"India\"\u001b[39m, \u001b[32m1.16\u001b[39m), (\u001b[32m\"China\"\u001b[39m, \u001b[32m1.2\u001b[39m), (\u001b[32m\"USA\"\u001b[39m, \u001b[32m0.4\u001b[39m), (\u001b[32m\"UK\"\u001b[39m, \u001b[32m0.06\u001b[39m))"
      ]
     },
     "execution_count": 17,
     "metadata": {},
     "output_type": "execute_result"
    }
   ],
   "source": [
    "map.toList"
   ]
  },
  {
   "cell_type": "code",
   "execution_count": 19,
   "metadata": {},
   "outputs": [
    {
     "data": {
      "text/plain": [
       "\u001b[36mres18\u001b[39m: \u001b[32mMap\u001b[39m[\u001b[32mString\u001b[39m, \u001b[32mInt\u001b[39m] = \u001b[33mMap\u001b[39m(\u001b[32m\"India\"\u001b[39m -> \u001b[32m5\u001b[39m, \u001b[32m\"China\"\u001b[39m -> \u001b[32m5\u001b[39m, \u001b[32m\"USA\"\u001b[39m -> \u001b[32m3\u001b[39m, \u001b[32m\"UK\"\u001b[39m -> \u001b[32m2\u001b[39m)"
      ]
     },
     "execution_count": 19,
     "metadata": {},
     "output_type": "execute_result"
    }
   ],
   "source": [
    "map.map { case(key, value) =>\n",
    "    key -> key.size\n",
    "}"
   ]
  },
  {
   "cell_type": "code",
   "execution_count": null,
   "metadata": {},
   "outputs": [],
   "source": []
  }
 ],
 "metadata": {
  "kernelspec": {
   "display_name": "Scala",
   "language": "scala",
   "name": "scala"
  },
  "language_info": {
   "codemirror_mode": "text/x-scala",
   "file_extension": ".scala",
   "mimetype": "text/x-scala",
   "name": "scala211",
   "nbconvert_exporter": "script",
   "pygments_lexer": "scala",
   "version": "2.11.8"
  }
 },
 "nbformat": 4,
 "nbformat_minor": 2
}
